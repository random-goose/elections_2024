{
 "cells": [
  {
   "cell_type": "code",
   "execution_count": 1,
   "metadata": {},
   "outputs": [
    {
     "name": "stderr",
     "output_type": "stream",
     "text": [
      "/home2/siddharthmavani/miniforge3/envs/mfnd/lib/python3.8/site-packages/tqdm/auto.py:21: TqdmWarning: IProgress not found. Please update jupyter and ipywidgets. See https://ipywidgets.readthedocs.io/en/stable/user_install.html\n",
      "  from .autonotebook import tqdm as notebook_tqdm\n"
     ]
    },
    {
     "name": "stdout",
     "output_type": "stream",
     "text": [
      "done\n"
     ]
    },
    {
     "name": "stderr",
     "output_type": "stream",
     "text": [
      "/home2/siddharthmavani/miniforge3/envs/mfnd/lib/python3.8/site-packages/transformers/utils/generic.py:311: UserWarning: torch.utils._pytree._register_pytree_node is deprecated. Please use torch.utils._pytree.register_pytree_node instead.\n",
      "  torch.utils._pytree._register_pytree_node(\n"
     ]
    },
    {
     "name": "stdout",
     "output_type": "stream",
     "text": [
      "Transformers will be trained on GPU\n",
      "done1\n"
     ]
    },
    {
     "name": "stderr",
     "output_type": "stream",
     "text": [
      "/home2/siddharthmavani/miniforge3/envs/mfnd/lib/python3.8/site-packages/transformers/utils/generic.py:311: UserWarning: torch.utils._pytree._register_pytree_node is deprecated. Please use torch.utils._pytree.register_pytree_node instead.\n",
      "  torch.utils._pytree._register_pytree_node(\n"
     ]
    },
    {
     "name": "stdout",
     "output_type": "stream",
     "text": [
      "VSG Using device: cuda\n",
      "GNN running on GPU\n"
     ]
    }
   ],
   "source": [
    "import os\n",
    "import json\n",
    "import torch\n",
    "import torch.nn as nn\n",
    "from PIL import Image\n",
    "from torchvision import transforms\n",
    "from sklearn.metrics import accuracy_score, f1_score, precision_score, recall_score\n",
    "print(\"done\")\n",
    "from models.multimodalTransformer import MultiModalTransformer\n",
    "print(\"done1\")\n",
    "from models.GNN import GNN, MultiGNN, getVSG, getVSGInference, getPyVSG, getTSG, getPyTSG, emptyVSG, getCMSG1, getCMSG2, getCMSG3"
   ]
  },
  {
   "cell_type": "code",
   "execution_count": 2,
   "metadata": {},
   "outputs": [
    {
     "name": "stdout",
     "output_type": "stream",
     "text": [
      "Running on the GPU\n"
     ]
    }
   ],
   "source": [
    "if (torch.cuda.is_available()):\n",
    "    device = torch.device(\"cuda\")\n",
    "    print(\"Running on the GPU\")\n",
    "else:\n",
    "    device = torch.device(\"cpu\")\n",
    "    print(\"Running on the CPU\")"
   ]
  },
  {
   "cell_type": "code",
   "execution_count": 3,
   "metadata": {},
   "outputs": [],
   "source": [
    "class MultiModalClassifier(nn.Module):\n",
    "    # 768, 8, 2048, 0.1, GNN_DIM\n",
    "    def __init__(self, d_model, num_heads, d_ff, dropout, gnn_dim):\n",
    "        super(MultiModalClassifier, self).__init__()\n",
    "        self.d_model = d_model\n",
    "        self.num_heads = num_heads\n",
    "        self.d_ff = d_ff\n",
    "        self.dropout = dropout\n",
    "        \n",
    "        self.transformer = MultiModalTransformer(d_model, num_heads, d_ff, dropout)\n",
    "        self.GNN = GNN(gnn_dim)\n",
    "        self.classifier = nn.Sequential(\n",
    "            nn.Dropout(dropout),\n",
    "            nn.Linear(d_model+64, 256),\n",
    "            nn.ReLU(),\n",
    "            nn.Linear(256, 128),\n",
    "            nn.ReLU(),\n",
    "            nn.Linear(128,32),\n",
    "            nn.ReLU(),\n",
    "            nn.Linear(32, 1),\n",
    "            nn.Sigmoid()\n",
    "        )\n",
    "        \n",
    "    def forward(self, text_batch, image, data_visual):\n",
    "        x = self.transformer(text_batch, image)\n",
    "        x_graph = self.GNN(data_visual)\n",
    "        \n",
    "        # Concatenate the outputs\n",
    "        x_combined = torch.cat((x, x_graph), dim=1)\n",
    "        \n",
    "        x = self.classifier(x_combined)\n",
    "        return x\n",
    "\n",
    "\n",
    "transform = transforms.Compose([\n",
    "    transforms.Resize((256, 256)),\n",
    "    transforms.ToTensor()              \n",
    "])"
   ]
  },
  {
   "cell_type": "code",
   "execution_count": 4,
   "metadata": {},
   "outputs": [],
   "source": [
    "# loading the model state dicts\n",
    "def load_model(model, modelPath):\n",
    "    model.load_state_dict(torch.load(modelPath))\n",
    "    return model"
   ]
  },
  {
   "cell_type": "code",
   "execution_count": 5,
   "metadata": {},
   "outputs": [
    {
     "data": {
      "text/plain": [
       "MultiModalClassifier(\n",
       "  (transformer): MultiModalTransformer(\n",
       "    (encoder_layer): EncoderLayer(\n",
       "      (self_attn): MultiHeadAttention(\n",
       "        (W_q): Linear(in_features=768, out_features=768, bias=True)\n",
       "        (W_k): Linear(in_features=768, out_features=768, bias=True)\n",
       "        (W_v): Linear(in_features=768, out_features=768, bias=True)\n",
       "        (W_o): Linear(in_features=768, out_features=768, bias=True)\n",
       "      )\n",
       "      (feed_forward): PositionWiseFeedForward(\n",
       "        (fc1): Linear(in_features=768, out_features=2048, bias=True)\n",
       "        (fc2): Linear(in_features=2048, out_features=768, bias=True)\n",
       "        (relu): ReLU()\n",
       "      )\n",
       "      (norm1): LayerNorm((768,), eps=1e-05, elementwise_affine=True)\n",
       "      (norm2): LayerNorm((768,), eps=1e-05, elementwise_affine=True)\n",
       "      (dropout): Dropout(p=0.1, inplace=False)\n",
       "    )\n",
       "    (patch_embedding): PatchEmbedding(\n",
       "      (projection): Sequential(\n",
       "        (0): Rearrange('b c (h p1) (w p2) -> b (h w) (p1 p2 c)', p1=16, p2=16)\n",
       "        (1): Linear(in_features=768, out_features=768, bias=True)\n",
       "      )\n",
       "    )\n",
       "  )\n",
       "  (GNN): GNN(\n",
       "    (conv1): GCNConv(100, 128)\n",
       "    (conv2): GCNConv(128, 64)\n",
       "  )\n",
       "  (classifier): Sequential(\n",
       "    (0): Dropout(p=0.1, inplace=False)\n",
       "    (1): Linear(in_features=832, out_features=256, bias=True)\n",
       "    (2): ReLU()\n",
       "    (3): Linear(in_features=256, out_features=128, bias=True)\n",
       "    (4): ReLU()\n",
       "    (5): Linear(in_features=128, out_features=32, bias=True)\n",
       "    (6): ReLU()\n",
       "    (7): Linear(in_features=32, out_features=1, bias=True)\n",
       "    (8): Sigmoid()\n",
       "  )\n",
       ")"
      ]
     },
     "execution_count": 5,
     "metadata": {},
     "output_type": "execute_result"
    }
   ],
   "source": [
    "NODE_EMBEDDING_SIZE = 100\n",
    "GNN_DIM = NODE_EMBEDDING_SIZE\n",
    "model = MultiModalClassifier(768, 8, 2048, 0.1, GNN_DIM)\n",
    "model = load_model(model, \"./elections-1.pth\")\n",
    "model.to(device)"
   ]
  },
  {
   "cell_type": "code",
   "execution_count": 6,
   "metadata": {},
   "outputs": [],
   "source": [
    "def MFND_Inference(text, ImgPath):\n",
    "\n",
    "    threshold = 0.5\n",
    "    length = 10001\n",
    "    placeholder_image = torch.zeros((1, 3, 256, 256))\n",
    "\n",
    "    # Loading the Image\n",
    "    if os.path.exists(ImgPath):\n",
    "        try:\n",
    "            image = Image.open(ImgPath)\n",
    "            if(image.mode != 'RGB'):\n",
    "                    image = image.convert('RGB')\n",
    "            image = transform(image)\n",
    "            image = image.unsqueeze(0)\n",
    "        except:\n",
    "            image = placeholder_image\n",
    "    else:\n",
    "        return \"Image not found\"          \n",
    "\n",
    "\n",
    "    # Getting VSG\n",
    "    try:\n",
    "        vsg = getVSGInference(ImgPath)\n",
    "        data_vsg = getPyVSG(vsg)\n",
    "    except Exception as e:\n",
    "        print(f\"Error processing image file: {str(e)}\")\n",
    "        print(\"Taking Empty VSG\")\n",
    "        vsg = emptyVSG()\n",
    "        data_vsg = getPyVSG(vsg)\n",
    "\n",
    "\n",
    "    data_vsg = data_vsg.to(device)\n",
    "    \n",
    "    output = model([text], image, data_vsg)\n",
    "\n",
    "    return output\n",
    "\n",
    "     \n",
    "    "
   ]
  },
  {
   "cell_type": "code",
   "execution_count": 7,
   "metadata": {},
   "outputs": [
    {
     "name": "stdout",
     "output_type": "stream",
     "text": [
      "Image not found\n"
     ]
    }
   ],
   "source": [
    "print(MFND_Inference(\"This is a sample text\", \"/home2/siddharthmavani/elections/images/hindi-971.jpg\"))"
   ]
  }
 ],
 "metadata": {
  "kernelspec": {
   "display_name": "mfnd",
   "language": "python",
   "name": "python3"
  },
  "language_info": {
   "codemirror_mode": {
    "name": "ipython",
    "version": 3
   },
   "file_extension": ".py",
   "mimetype": "text/x-python",
   "name": "python",
   "nbconvert_exporter": "python",
   "pygments_lexer": "ipython3",
   "version": "3.8.18"
  }
 },
 "nbformat": 4,
 "nbformat_minor": 2
}
