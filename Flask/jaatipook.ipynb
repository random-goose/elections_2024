{
 "cells": [
  {
   "cell_type": "code",
   "execution_count": 1,
   "metadata": {},
   "outputs": [],
   "source": [
    "import pandas as pd"
   ]
  },
  {
   "cell_type": "code",
   "execution_count": 2,
   "metadata": {},
   "outputs": [],
   "source": [
    "df = pd.read_csv('model_predictions.csv')"
   ]
  },
  {
   "cell_type": "code",
   "execution_count": 5,
   "metadata": {},
   "outputs": [
    {
     "data": {
      "text/plain": [
       "Index(['Unnamed: 0', 'article_url', 'title', 'text', 'date', 'Source',\n",
       "       'url_state_matches', 'state_counts', 'city_counts',\n",
       "       'aggregated_state_counts', 'found_party', 'party_trigger_info', 'year',\n",
       "       'state_with_max_count', 'found_party_title', 'party_trigger_info_title',\n",
       "       'found_party_text', 'party_trigger_info_text',\n",
       "       'incumbent_found_title_loksabha', 'challenger_found_title_loksabha',\n",
       "       'incumbent_found_text_loksabha', 'challenger_found_text_loksabha',\n",
       "       'incumbent_found_title', 'challenger_found_title',\n",
       "       'incumbent_found_text', 'challenger_found_text', 'generated_attacker',\n",
       "       'generated_attacked', 'political_leaning',\n",
       "       'incumbent_found_attacker_loksabha',\n",
       "       'challenger_found_attacker_loksabha',\n",
       "       'incumbent_found_attacked_loksabha',\n",
       "       'challenger_found_attacked_loksabha', 'incumbent_found_attacker',\n",
       "       'challenger_found_attacker', 'incumbent_found_attacked',\n",
       "       'challenger_found_attacked', 'gpt_attacker', 'gpt_attacked',\n",
       "       'attacker_parties', 'attacked_parties', 'Frame',\n",
       "       'gpt_incumbent_found_attacked', 'gpt_challenger_found_attacked',\n",
       "       'gpt_incumbent_found_attacker', 'gpt_challenger_found_attacker',\n",
       "       'gpt_incumbent_found_attacker_loksabha',\n",
       "       'gpt_challenger_found_attacker_loksabha',\n",
       "       'gpt_incumbent_found_attacked_loksabha',\n",
       "       'gpt_challenger_found_attacked_loksabha', 'found_parties',\n",
       "       'predictions'],\n",
       "      dtype='object')"
      ]
     },
     "execution_count": 5,
     "metadata": {},
     "output_type": "execute_result"
    }
   ],
   "source": [
    "df.columns"
   ]
  },
  {
   "cell_type": "code",
   "execution_count": 3,
   "metadata": {},
   "outputs": [
    {
     "data": {
      "text/plain": [
       "(69400, 52)"
      ]
     },
     "execution_count": 3,
     "metadata": {},
     "output_type": "execute_result"
    }
   ],
   "source": [
    "df.shape"
   ]
  },
  {
   "cell_type": "code",
   "execution_count": null,
   "metadata": {},
   "outputs": [],
   "source": [
    "list = [\"bruh\"]\n",
    "word = \"bruh\"\n",
    "\n",
    "if word in list: print(\"yes\")"
   ]
  }
 ],
 "metadata": {
  "kernelspec": {
   "display_name": "Python 3",
   "language": "python",
   "name": "python3"
  },
  "language_info": {
   "codemirror_mode": {
    "name": "ipython",
    "version": 3
   },
   "file_extension": ".py",
   "mimetype": "text/x-python",
   "name": "python",
   "nbconvert_exporter": "python",
   "pygments_lexer": "ipython3",
   "version": "3.13.0"
  }
 },
 "nbformat": 4,
 "nbformat_minor": 2
}
