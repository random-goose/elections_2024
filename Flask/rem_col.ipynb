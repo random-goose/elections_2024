{
 "cells": [
  {
   "cell_type": "code",
   "execution_count": 1,
   "metadata": {},
   "outputs": [],
   "source": [
    "import pandas as pd"
   ]
  },
  {
   "cell_type": "code",
   "execution_count": 7,
   "metadata": {},
   "outputs": [],
   "source": [
    "df = pd.read_csv('model_predictions.csv')"
   ]
  },
  {
   "cell_type": "code",
   "execution_count": 10,
   "metadata": {
    "vscode": {
     "languageId": "javascript"
    }
   },
   "outputs": [],
   "source": [
    "columns_to_drop = [\n",
    "    'Unnamed: 0', 'article_url', 'title', 'text','url_state_matches', 'state_counts', 'city_counts', 'party_trigger_info', 'year',\n",
    "       'state_with_max_count', 'found_party_title', 'party_trigger_info_title',\n",
    "       'incumbent_found_attacker_loksabha',\n",
    "]\n",
    "\n",
    "df = df.drop(columns=columns_to_drop)"
   ]
  },
  {
   "cell_type": "code",
   "execution_count": 12,
   "metadata": {
    "vscode": {
     "languageId": "javascript"
    }
   },
   "outputs": [],
   "source": [
    "df.to_csv('model_predictions_cleaned.csv', index=False)"
   ]
  },
  {
   "cell_type": "code",
   "execution_count": 11,
   "metadata": {},
   "outputs": [
    {
     "data": {
      "text/plain": [
       "Index(['date', 'Source', 'aggregated_state_counts', 'found_party',\n",
       "       'found_parties', 'predictions'],\n",
       "      dtype='object')"
      ]
     },
     "execution_count": 11,
     "metadata": {},
     "output_type": "execute_result"
    }
   ],
   "source": [
    "df.columns"
   ]
  },
  {
   "cell_type": "code",
   "execution_count": 4,
   "metadata": {},
   "outputs": [
    {
     "data": {
      "application/vnd.microsoft.datawrangler.viewer.v0+json": {
       "columns": [
        {
         "name": "index",
         "rawType": "int64",
         "type": "integer"
        },
        {
         "name": "Unnamed: 0",
         "rawType": "int64",
         "type": "integer"
        },
        {
         "name": "article_url",
         "rawType": "object",
         "type": "string"
        },
        {
         "name": "title",
         "rawType": "object",
         "type": "string"
        },
        {
         "name": "text",
         "rawType": "object",
         "type": "string"
        },
        {
         "name": "date",
         "rawType": "object",
         "type": "string"
        },
        {
         "name": "Source",
         "rawType": "object",
         "type": "string"
        },
        {
         "name": "url_state_matches",
         "rawType": "object",
         "type": "string"
        },
        {
         "name": "state_counts",
         "rawType": "object",
         "type": "string"
        },
        {
         "name": "city_counts",
         "rawType": "object",
         "type": "string"
        },
        {
         "name": "aggregated_state_counts",
         "rawType": "object",
         "type": "string"
        },
        {
         "name": "found_party",
         "rawType": "object",
         "type": "string"
        },
        {
         "name": "party_trigger_info",
         "rawType": "object",
         "type": "string"
        },
        {
         "name": "year",
         "rawType": "int64",
         "type": "integer"
        },
        {
         "name": "state_with_max_count",
         "rawType": "object",
         "type": "string"
        },
        {
         "name": "found_party_title",
         "rawType": "object",
         "type": "string"
        },
        {
         "name": "party_trigger_info_title",
         "rawType": "object",
         "type": "string"
        },
        {
         "name": "found_party_text",
         "rawType": "object",
         "type": "string"
        },
        {
         "name": "party_trigger_info_text",
         "rawType": "object",
         "type": "string"
        },
        {
         "name": "incumbent_found_title_loksabha",
         "rawType": "int64",
         "type": "integer"
        },
        {
         "name": "challenger_found_title_loksabha",
         "rawType": "int64",
         "type": "integer"
        },
        {
         "name": "incumbent_found_text_loksabha",
         "rawType": "int64",
         "type": "integer"
        },
        {
         "name": "challenger_found_text_loksabha",
         "rawType": "int64",
         "type": "integer"
        },
        {
         "name": "incumbent_found_title",
         "rawType": "int64",
         "type": "integer"
        },
        {
         "name": "challenger_found_title",
         "rawType": "int64",
         "type": "integer"
        },
        {
         "name": "incumbent_found_text",
         "rawType": "int64",
         "type": "integer"
        },
        {
         "name": "challenger_found_text",
         "rawType": "int64",
         "type": "integer"
        },
        {
         "name": "generated_attacker",
         "rawType": "object",
         "type": "unknown"
        },
        {
         "name": "generated_attacked",
         "rawType": "object",
         "type": "unknown"
        },
        {
         "name": "political_leaning",
         "rawType": "object",
         "type": "string"
        },
        {
         "name": "incumbent_found_attacker_loksabha",
         "rawType": "float64",
         "type": "float"
        },
        {
         "name": "challenger_found_attacker_loksabha",
         "rawType": "float64",
         "type": "float"
        },
        {
         "name": "incumbent_found_attacked_loksabha",
         "rawType": "float64",
         "type": "float"
        },
        {
         "name": "challenger_found_attacked_loksabha",
         "rawType": "float64",
         "type": "float"
        },
        {
         "name": "incumbent_found_attacker",
         "rawType": "float64",
         "type": "float"
        },
        {
         "name": "challenger_found_attacker",
         "rawType": "float64",
         "type": "float"
        },
        {
         "name": "incumbent_found_attacked",
         "rawType": "float64",
         "type": "float"
        },
        {
         "name": "challenger_found_attacked",
         "rawType": "float64",
         "type": "float"
        },
        {
         "name": "gpt_attacker",
         "rawType": "object",
         "type": "unknown"
        },
        {
         "name": "gpt_attacked",
         "rawType": "object",
         "type": "unknown"
        },
        {
         "name": "attacker_parties",
         "rawType": "object",
         "type": "string"
        },
        {
         "name": "attacked_parties",
         "rawType": "object",
         "type": "string"
        },
        {
         "name": "Frame",
         "rawType": "object",
         "type": "string"
        },
        {
         "name": "gpt_incumbent_found_attacked",
         "rawType": "int64",
         "type": "integer"
        },
        {
         "name": "gpt_challenger_found_attacked",
         "rawType": "int64",
         "type": "integer"
        },
        {
         "name": "gpt_incumbent_found_attacker",
         "rawType": "int64",
         "type": "integer"
        },
        {
         "name": "gpt_challenger_found_attacker",
         "rawType": "int64",
         "type": "integer"
        },
        {
         "name": "gpt_incumbent_found_attacker_loksabha",
         "rawType": "int64",
         "type": "integer"
        },
        {
         "name": "gpt_challenger_found_attacker_loksabha",
         "rawType": "int64",
         "type": "integer"
        },
        {
         "name": "gpt_incumbent_found_attacked_loksabha",
         "rawType": "int64",
         "type": "integer"
        },
        {
         "name": "gpt_challenger_found_attacked_loksabha",
         "rawType": "int64",
         "type": "integer"
        },
        {
         "name": "found_parties",
         "rawType": "object",
         "type": "string"
        },
        {
         "name": "predictions",
         "rawType": "object",
         "type": "string"
        }
       ],
       "conversionMethod": "pd.DataFrame",
       "ref": "877a09bd-8a47-4b5a-ae3c-981b4bf0c4ae",
       "rows": [
        [
         "0",
         "0",
         "https://www.thehindu.com/business/Industry/infosys-exboard-member-balakrishnan-joins-aap/article5526521.ece",
         "Infosys ex-board member Balakrishnan joins AAP",
         "V. Balakrishnan, who stepped down as board member of software behemoth Infosys recently creating ripples in the corporate circles, has joined the Aam Aadmi Party (AAP).\n“Yes, I have become a member of the AAP. I got the confirmation today,” Mr. Balakrishnan told PTI on Wednesday.\n“They (AAP) have revolutionised politics in this country. I’m fascinated with it,” he said.\nAnnouncing Mr. Balakrishnan’s exit on December 20 as member of the board and from services of the company, Infosys had said the resignation was effective December 31, 2013.\nMr. Balakrishnan, who joined Infosys in 1991 and later became its chief financial officer, was said to be a top contender to the post of the chief executive officer.\nTo a question whether he was looking for a full time political career along with business commitments, he said, “In future, I think so... I think I will be able to manage both.”\nMr. Balakrishnan, soon after his exit from Infosys, had said he was waiting for SEBI’s approval for his private equity fund, which he had formed along with the former Infosys executive Mohandas Pai and the former Wipro executive Girish Paranjpe.\nTo a question on contesting the Lok Sabha election, he said, “It’s too early to say anything about it.”\nMr. Balakrishnan was also the BPO head at Infosys as well as the chairman of Infosys Lodestone, a global management consultancy firm.",
         "2014-01-01 00:00:00+00:00",
         "hindu",
         "{}",
         "{}",
         "{}",
         "{}",
         "['AAP']",
         "[{'AAP': 'AAP'}]",
         "2014",
         "[]",
         "['AAP']",
         "[{'AAP': 'AAP'}]",
         "['AAP']",
         "[{'AAP': 'AAP'}]",
         "0",
         "0",
         "0",
         "0",
         "0",
         "0",
         "0",
         "0",
         null,
         null,
         "left",
         null,
         null,
         null,
         null,
         null,
         null,
         null,
         null,
         null,
         null,
         "[]",
         "[]",
         "miscellaneous",
         "0",
         "0",
         "0",
         "0",
         "0",
         "0",
         "0",
         "0",
         "['AAP']",
         "miscellaneous"
        ],
        [
         "1",
         "1",
         "https://www.thehindu.com/news/national/other-states/charges-against-virbhadra-not-new-congress/article5526423.ece",
         "Charges against Virbhadra not new: Congress",
         "Coming to the defence of its six-time Chief Minister from Himachal Pradesh Virbhadra Singh, the Congress on Wednesday maintained that there was nothing new in the charges of corruption being levelled against him and his wife by the Bharatiya Janata Party.\nMr. Singh, who is learnt to have been summoned to the Capital by the party high command in the wake of the recent bout of accusation, on Wednesday met party general secretary in-charge of Himachal Pradesh Ambika Soni and former legal department chairman Abhishek Manu Singhvi. His wife and Congress MP Pratibha Singh too met several party leaders at the party headquarters.\nThough it was being speculated that Mr. Singh would meet party president Sonia Gandhi to explain his position, the meeting, according to sources, never materialised as she was “indisposed.” Also, Mr. Singh could not get an audience from vice-president Rahul Gandhi, who was stated to be out of station.\nMr. Singh is learnt to have claimed that the charges against him were “politically motivated” and “malicious”.\nSince the Leader of the Opposition in the Rajya Sabha Arun Jaitley had alleged that the Chief Minister had taken a “bribe” from a private company for extension of a power project, State Industries Minister Mukesh Agnihotri, who accompanied Mr. Singh to Delhi, defended him saying the project in question was cancelled in November after the company defaulted.\nHe said the project was allotted during the BJP regime in 2002.\nThe BJP, meanwhile, continued to press for Mr. Singh’s resignation.\nThe BJP Yuva Morcha chief and MP from Hamirpur Anurag Thakur met Chief Election Commissioner V.S. Sampath and handed over a memorandum demanding action against Mr. Singh and his wife. The BJP leader sought the cancellation of the membership of Mr. Singh from the Assembly and of Ms. Singh from the Lok Sabha.\nAction should be taken against the Mr. Singh and his wife for hiding information about his income in the affidavits filed before the EC in last Assembly polls and Mandi Lok Sabha bypoll, he said.\n“…Even more grave is the fact that Mr. Singh did not disclose these details in his election affidavit filed during the Vidhan Sabha polls in 2012. He clearly mentions other details of other assets of his wife and children. This is clearly no oversight and because he knew that his disclosure could lead to the establishment of a trial of preferential share allotment in lieu of preferential treatment, he chose to conceal it,” the memorandum read.\nIt also said that Ms. Singh too did not mention 2,110 shares of unlisted company, and 3.4 lakh shares owned in Tarinin Infrastructure in her affidavit filed during the Mandi bypoll in 2013.",
         "2014-01-01 00:00:00+00:00",
         "hindu",
         "{}",
         "{'delhi': 1, 'himachal pradesh': 2}",
         "{'himachal pradesh': {'hamirpur': 1, 'mandi': 2}, 'uttar pradesh': {'hamirpur': 1}}",
         "{'delhi': 1, 'himachal pradesh': 5, 'uttar pradesh': 1}",
         "['BJP', 'INC']",
         "[{'INC': 'Rahul Gandhi'}, {'BJP': 'BJP'}]",
         "2014",
         "['himachal pradesh']",
         "['INC']",
         "[{'INC': 'Congress'}]",
         "['BJP', 'INC']",
         "[{'BJP': 'BJP'}, {'INC': 'Rahul'}]",
         "0",
         "1",
         "1",
         "1",
         "1",
         "0",
         "1",
         "1",
         null,
         null,
         "left",
         null,
         null,
         null,
         null,
         null,
         null,
         null,
         null,
         "['Congress']",
         "['Virbhadra']",
         "['INC']",
         "[]",
         "miscellaneous",
         "0",
         "0",
         "1",
         "0",
         "0",
         "1",
         "0",
         "0",
         "['INC']",
         "attack"
        ],
        [
         "2",
         "2",
         "https://www.thehindu.com/news/national/other-states/congress-mp-asks-chavan-to-slash-power-tariff/article5526293.ece",
         "Congress MP asks Chavan to slash power tariff",
         "Taking the cue from the Delhi government’s decision to cut power tariff by 50%, Congress MP from North Mumbai Sanjay Nirupam has urged Maharashtra Chief Minister Prithviraj Chavan to reduce power tariff in the city.\n“The pattern of power distribution in Delhi and Mumbai is pretty identical. Private companies have been given the responsibility at both places and they have always raised tariffs without considering the people,” Mr. Nirupam told The Hindu.\nIn his letter to Mr. Chavan on Wednesday, Mr. Nirupam said the tariff should be substantially reduced for those whose consumption was less than 500 units a month.\n“I am pained to point out that in the past 10 years the power tariff in Mumbai has increased by around four times in all sectors. The possibility that some sort of cartelisation exists cannot be ruled out since both companies supplying power have been increasing the tariff from time to time under one pretext or the other,” wrote Mr. Nirupam. Tata power and Reliance Infrastructure are the two companies that supply power to the city.\nMentioning that the Delhi government’s decision would benefit lakhs of middle class people and slum dwellers, he even threatened to launch an agitation against his own party’s government if the demands were not met with.\nPointing out that regulatory authority was not even consulted before taking the decision in Delhi, he wrote that the Maharashtra government had been blaming the authority all these years whenever the issue of reducing tariff came up. Mr. Nirupam said that if need be, instead of power companies becoming the beneficiaries of subsidies given on power tariff, it should directly be transferred to the consumers.\nMr. Nirupam asked the government to investigate the cost structure and pricing mechanism adopted by power distribution companies in Mumbai. He again cited the example of the Delhi government, which has ordered a CAG audit of companies.\nAam Adami Party leader Prashant Bhushan, who addressed a press conference here on Wednesday, said the Congress government had become insecure after his party’s victory in Delhi and was trying to copy them.\nMr. Nirupam, however, refuted the charge claiming he was not inspired by the AAP, but by the issue.\nThe Nationalist Congress Party, which is handling the power portfolio in the State, said the issue had been discussed two months ago.",
         "2014-01-01 00:00:00+00:00",
         "hindu",
         "{}",
         "{'maharashtra': 2, 'delhi': 6}",
         "{'maharashtra': {'mumbai': 4}}",
         "{'maharashtra': 6, 'delhi': 6}",
         "['AAP', 'NCP', 'INC']",
         "[{'AAP': 'AAP'}, {'NCP': 'Nationalist'}, {'INC': 'Congress'}]",
         "2014",
         "['delhi']",
         "['INC']",
         "[{'INC': 'Congress'}]",
         "['AAP', 'NCP', 'INC']",
         "[{'INC': 'Congress'}, {'AAP': 'AAP'}, {'NCP': 'Nationalist'}]",
         "1",
         "0",
         "1",
         "1",
         "1",
         "0",
         "1",
         "1",
         null,
         null,
         "left",
         null,
         null,
         null,
         null,
         null,
         null,
         null,
         null,
         "['Congress']",
         "['Chavan']",
         "['INC']",
         "[]",
         "miscellaneous",
         "0",
         "0",
         "1",
         "0",
         "1",
         "0",
         "0",
         "0",
         "['INC']",
         "attack"
        ],
        [
         "3",
         "3",
         "https://www.thehindu.com/news/cities/Delhi/we-are-no-threat-to-aap-congress/article5526254.ece",
         "We are no threat to AAP: Congress",
         "The confidence vote moved by Aam Aadmi government led-by Arvind Kejriwal began in the Delhi Assembly on Thursday afternoon.\nEarlier, the first session of the fifth Delhi Assembly began on Wednesday with the newly elected MLAs taking the oath of office and secrecy. The Arvind Kejriwal-led government will seek a vote of confidence on Thursday.\nEven as Mr. Kejriwal raised concerns on Tuesday over the fate of his government, saying “he has only 48 hours to deliver on the promises, Congress leaders reiterated on Wednesday that the AAP’s apprehensions were “misplaced.”\n“We have extended outside support to the AAP. The letter of support was given to the Lieutenant Governor. We stand by our decision, and there is no threat to the government from our party. But if Mr. Kejriwal is himself running away from the responsibility, I cannot comment on that,” said Pradesh Congress Committee president Arvinder Singh.\nThe AAP, which has 28 MLAs, needs the support of at least eight other members to achieve a simple majority of 36 in a 70-member Assembly. The Congress has eight MLAs. The JD(U) has also offered the support of its lone MLA to the government. On the other hand, the opposition BJP and its ally Shiromani Akali Dal have a total of 32 MLAs. There is only one Independent.\nDeparting from precedence, the AAP government has decided to prove its majority even before electing the Speaker. “The decision might be guided by the fact that the party does not want to take any chance during the trust vote. If the AAP manages to get its candidate elected Speaker, he will not be able to vote during the trust vote unless it’s a tie,” said an official of the Vidhan Sabha.\nChief Minister Arvind Kejriwal was the first to take the oath on Wednesday, followed by Manish Sisodia and other ministers. Only Dinesh Mohaniya of the AAP and Jai Kishan of the Congress were absent.\nHaving been elected for the first time, some AAP MLAs appeared unfamiliar with the conventions. This resulted in some funny moments and even kicked up a controversy. At one point of time, the AAP MLAs were reminded by a BJP legislator that the members need to thump the desks in appreciation as their senior leaders took turns to take the oath.\nMr. Kejriwal’s decision to leave the proceedings, along with Mr. Sisodia shortly after taking the oath, sparked a row. “The Chief Minister is the leader of the House. I don’t think there can be anything important than the oath-taking ceremony on the first day of the session. Even if the Chief Minister and his senior most Cabinet colleague had to leave for something really urgent, he should have at least followed the convention and taken permission from the Speaker through the Assembly secretary,” said BJP MLA and former Chief Whip of the party Shahib Singh Chauhan.\nHowever, Mr. Arvinder Singh said: “The AAP MLAs must be given some time to get accustomed to the conventions and proceedings of the House.”\nWhile most of the MLAs took the oath in Hindi, some others did so in different languages. Anil Jha of the BJP, attired in a traditional dhoti-kurta and maithili cap, took the oath in Maithili, a regional language spoken in Bihar. The JD(U)’s Shoaib Iqbal and Congress members Haroon Yusuf, Hasan Ahmed and Mohammed Asif took the oath in Urdu. While Rajendra Nagar MLA R.P. Singh took the oath in Punjabi, Mr. Arvinder Singh was the sole MLA to use English.\nThe Assembly session will end on January 7.",
         "2014-01-01 00:00:00+00:00",
         "hindu",
         "{'Delhi': 'Delhi'}",
         "{'bihar': 1, 'delhi': 2, 'punjab': 1}",
         "{}",
         "{'bihar': 1, 'delhi': 2, 'punjab': 1}",
         "['AAP', 'SAD', 'BJP', 'INC']",
         "[{'SAD': 'Shiromani Akali Dal'}, {'AAP': 'AAP'}, {'INC': 'Congress'}, {'BJP': 'BJP'}]",
         "2014",
         "['delhi']",
         "['AAP', 'INC']",
         "[{'INC': 'Congress'}, {'AAP': 'AAP'}]",
         "['SAD', 'AAP', 'INC', 'JD(U)', 'BJP']",
         "[{'AAP': 'AAP'}, {'BJP': 'BJP'}, {'SAD': 'Shiromani Akali Dal'}, {'JD(U)': 'JD(U)'}, {'INC': 'Congress'}]",
         "1",
         "1",
         "1",
         "1",
         "1",
         "1",
         "1",
         "1",
         "['INC']",
         "['AAP']",
         "left",
         "1.0",
         "0.0",
         "0.0",
         "1.0",
         "1.0",
         "0.0",
         "0.0",
         "1.0",
         "['Congress']",
         "['AAP']",
         "['INC']",
         "['AAP']",
         "attack",
         "0",
         "1",
         "1",
         "0",
         "1",
         "0",
         "0",
         "1",
         "['INC', 'AAP']",
         "attack"
        ],
        [
         "4",
         "4",
         "https://www.thehindu.com/news/national/other-states/former-bjp-mla-kanu-kalsariya-joins-aam-aadmi-party/article5526150.ece",
         "Former BJP MLA Kanu Kalsariya joins Aam Aadmi Party",
         "Former BJP MLA Kanu Kalsariya, who spearheaded the agitation against Nirma’s cement plant in his constituency, on Wednesday joined the Aam Aadmi Party (AAP) in the presence of its national executive member Dinesh Vaghela.\nDr. Kalsariya, who had contested from Gariadhar seat in the 2012 Assembly elections under the banner of ‘Sadbhavana Manch’ and lost, joined AAP amid party workers and supporters at the District Collectorate here.\nWhen asked if he would contest against Mr. Modi in the upcoming Lok Sabha elections, Dr. Kalsariya said a decision regarding whether he would contest the elections and against whom would be decided by the party and he would go by that.\nAmid his supporters wielding brooms and chants of “Aam Aadmi Zindabad,” Dr. Kalsariya, a gynaecologist by profession, candidly admitted that he was about to join the Congress party just before joining AAP.\n“I wanted to join the Congress party as there was no other option. I would have made a mistake had I done so. AAP is a symbol of people’s power. And, they showed it in Delhi,” he said.\n“Gujarat has never got a third alternative apart from BJP and Congress. AAP, as a third political alternative, will turn a new chapter in Indian politics in 2014,” he said.\nAAP claims to have registered 20,000 members offline and 50,000 members online across the state following the party’s spectacular showing in the Assembly elections in Delhi, where the party won 28 of the 70 seats.\nRetired IAS officer A.R. Bharadwaj, who was the director of Mahatma Gandhi Labour Institute, also joined the Aam Aadmi Party.\nWhen asked why he had joined AAP, Mr. Bharadwaj said, “Throughout my professional career, I felt suffocated. If I did good work, I would be harassed. But, AAP is a people’s party. It gives an opportunity to do good for people.”",
         "2014-01-01 00:00:00+00:00",
         "hindu",
         "{}",
         "{'delhi': 2, 'gujarat': 1}",
         "{}",
         "{'delhi': 2, 'gujarat': 1}",
         "['AAP', 'BJP', 'INC']",
         "[{'AAP': 'AAP'}, {'INC': 'Congress'}, {'BJP': 'BJP'}]",
         "2014",
         "['delhi']",
         "['BJP', 'AAP']",
         "[{'BJP': 'BJP'}, {'AAP': 'Aam Aadmi Party'}]",
         "['BJP', 'AAP', 'INC']",
         "[{'INC': 'Congress'}, {'BJP': 'BJP'}, {'AAP': 'AAP'}]",
         "0",
         "1",
         "1",
         "1",
         "0",
         "1",
         "1",
         "1",
         null,
         null,
         "left",
         null,
         null,
         null,
         null,
         null,
         null,
         null,
         null,
         null,
         null,
         "[]",
         "[]",
         "miscellaneous",
         "0",
         "0",
         "0",
         "0",
         "0",
         "0",
         "0",
         "0",
         "['BJP', 'AAP']",
         "miscellaneous"
        ]
       ],
       "shape": {
        "columns": 52,
        "rows": 5
       }
      },
      "text/html": [
       "<div>\n",
       "<style scoped>\n",
       "    .dataframe tbody tr th:only-of-type {\n",
       "        vertical-align: middle;\n",
       "    }\n",
       "\n",
       "    .dataframe tbody tr th {\n",
       "        vertical-align: top;\n",
       "    }\n",
       "\n",
       "    .dataframe thead th {\n",
       "        text-align: right;\n",
       "    }\n",
       "</style>\n",
       "<table border=\"1\" class=\"dataframe\">\n",
       "  <thead>\n",
       "    <tr style=\"text-align: right;\">\n",
       "      <th></th>\n",
       "      <th>Unnamed: 0</th>\n",
       "      <th>article_url</th>\n",
       "      <th>title</th>\n",
       "      <th>text</th>\n",
       "      <th>date</th>\n",
       "      <th>Source</th>\n",
       "      <th>url_state_matches</th>\n",
       "      <th>state_counts</th>\n",
       "      <th>city_counts</th>\n",
       "      <th>aggregated_state_counts</th>\n",
       "      <th>...</th>\n",
       "      <th>gpt_incumbent_found_attacked</th>\n",
       "      <th>gpt_challenger_found_attacked</th>\n",
       "      <th>gpt_incumbent_found_attacker</th>\n",
       "      <th>gpt_challenger_found_attacker</th>\n",
       "      <th>gpt_incumbent_found_attacker_loksabha</th>\n",
       "      <th>gpt_challenger_found_attacker_loksabha</th>\n",
       "      <th>gpt_incumbent_found_attacked_loksabha</th>\n",
       "      <th>gpt_challenger_found_attacked_loksabha</th>\n",
       "      <th>found_parties</th>\n",
       "      <th>predictions</th>\n",
       "    </tr>\n",
       "  </thead>\n",
       "  <tbody>\n",
       "    <tr>\n",
       "      <th>0</th>\n",
       "      <td>0</td>\n",
       "      <td>https://www.thehindu.com/business/Industry/inf...</td>\n",
       "      <td>Infosys ex-board member Balakrishnan joins AAP</td>\n",
       "      <td>V. Balakrishnan, who stepped down as board mem...</td>\n",
       "      <td>2014-01-01 00:00:00+00:00</td>\n",
       "      <td>hindu</td>\n",
       "      <td>{}</td>\n",
       "      <td>{}</td>\n",
       "      <td>{}</td>\n",
       "      <td>{}</td>\n",
       "      <td>...</td>\n",
       "      <td>0</td>\n",
       "      <td>0</td>\n",
       "      <td>0</td>\n",
       "      <td>0</td>\n",
       "      <td>0</td>\n",
       "      <td>0</td>\n",
       "      <td>0</td>\n",
       "      <td>0</td>\n",
       "      <td>['AAP']</td>\n",
       "      <td>miscellaneous</td>\n",
       "    </tr>\n",
       "    <tr>\n",
       "      <th>1</th>\n",
       "      <td>1</td>\n",
       "      <td>https://www.thehindu.com/news/national/other-s...</td>\n",
       "      <td>Charges against Virbhadra not new: Congress</td>\n",
       "      <td>Coming to the defence of its six-time Chief Mi...</td>\n",
       "      <td>2014-01-01 00:00:00+00:00</td>\n",
       "      <td>hindu</td>\n",
       "      <td>{}</td>\n",
       "      <td>{'delhi': 1, 'himachal pradesh': 2}</td>\n",
       "      <td>{'himachal pradesh': {'hamirpur': 1, 'mandi': ...</td>\n",
       "      <td>{'delhi': 1, 'himachal pradesh': 5, 'uttar pra...</td>\n",
       "      <td>...</td>\n",
       "      <td>0</td>\n",
       "      <td>0</td>\n",
       "      <td>1</td>\n",
       "      <td>0</td>\n",
       "      <td>0</td>\n",
       "      <td>1</td>\n",
       "      <td>0</td>\n",
       "      <td>0</td>\n",
       "      <td>['INC']</td>\n",
       "      <td>attack</td>\n",
       "    </tr>\n",
       "    <tr>\n",
       "      <th>2</th>\n",
       "      <td>2</td>\n",
       "      <td>https://www.thehindu.com/news/national/other-s...</td>\n",
       "      <td>Congress MP asks Chavan to slash power tariff</td>\n",
       "      <td>Taking the cue from the Delhi government’s dec...</td>\n",
       "      <td>2014-01-01 00:00:00+00:00</td>\n",
       "      <td>hindu</td>\n",
       "      <td>{}</td>\n",
       "      <td>{'maharashtra': 2, 'delhi': 6}</td>\n",
       "      <td>{'maharashtra': {'mumbai': 4}}</td>\n",
       "      <td>{'maharashtra': 6, 'delhi': 6}</td>\n",
       "      <td>...</td>\n",
       "      <td>0</td>\n",
       "      <td>0</td>\n",
       "      <td>1</td>\n",
       "      <td>0</td>\n",
       "      <td>1</td>\n",
       "      <td>0</td>\n",
       "      <td>0</td>\n",
       "      <td>0</td>\n",
       "      <td>['INC']</td>\n",
       "      <td>attack</td>\n",
       "    </tr>\n",
       "    <tr>\n",
       "      <th>3</th>\n",
       "      <td>3</td>\n",
       "      <td>https://www.thehindu.com/news/cities/Delhi/we-...</td>\n",
       "      <td>We are no threat to AAP: Congress</td>\n",
       "      <td>The confidence vote moved by Aam Aadmi governm...</td>\n",
       "      <td>2014-01-01 00:00:00+00:00</td>\n",
       "      <td>hindu</td>\n",
       "      <td>{'Delhi': 'Delhi'}</td>\n",
       "      <td>{'bihar': 1, 'delhi': 2, 'punjab': 1}</td>\n",
       "      <td>{}</td>\n",
       "      <td>{'bihar': 1, 'delhi': 2, 'punjab': 1}</td>\n",
       "      <td>...</td>\n",
       "      <td>0</td>\n",
       "      <td>1</td>\n",
       "      <td>1</td>\n",
       "      <td>0</td>\n",
       "      <td>1</td>\n",
       "      <td>0</td>\n",
       "      <td>0</td>\n",
       "      <td>1</td>\n",
       "      <td>['INC', 'AAP']</td>\n",
       "      <td>attack</td>\n",
       "    </tr>\n",
       "    <tr>\n",
       "      <th>4</th>\n",
       "      <td>4</td>\n",
       "      <td>https://www.thehindu.com/news/national/other-s...</td>\n",
       "      <td>Former BJP MLA Kanu Kalsariya joins Aam Aadmi ...</td>\n",
       "      <td>Former BJP MLA Kanu Kalsariya, who spearheaded...</td>\n",
       "      <td>2014-01-01 00:00:00+00:00</td>\n",
       "      <td>hindu</td>\n",
       "      <td>{}</td>\n",
       "      <td>{'delhi': 2, 'gujarat': 1}</td>\n",
       "      <td>{}</td>\n",
       "      <td>{'delhi': 2, 'gujarat': 1}</td>\n",
       "      <td>...</td>\n",
       "      <td>0</td>\n",
       "      <td>0</td>\n",
       "      <td>0</td>\n",
       "      <td>0</td>\n",
       "      <td>0</td>\n",
       "      <td>0</td>\n",
       "      <td>0</td>\n",
       "      <td>0</td>\n",
       "      <td>['BJP', 'AAP']</td>\n",
       "      <td>miscellaneous</td>\n",
       "    </tr>\n",
       "  </tbody>\n",
       "</table>\n",
       "<p>5 rows × 52 columns</p>\n",
       "</div>"
      ],
      "text/plain": [
       "   Unnamed: 0                                        article_url  \\\n",
       "0           0  https://www.thehindu.com/business/Industry/inf...   \n",
       "1           1  https://www.thehindu.com/news/national/other-s...   \n",
       "2           2  https://www.thehindu.com/news/national/other-s...   \n",
       "3           3  https://www.thehindu.com/news/cities/Delhi/we-...   \n",
       "4           4  https://www.thehindu.com/news/national/other-s...   \n",
       "\n",
       "                                               title  \\\n",
       "0     Infosys ex-board member Balakrishnan joins AAP   \n",
       "1        Charges against Virbhadra not new: Congress   \n",
       "2      Congress MP asks Chavan to slash power tariff   \n",
       "3                  We are no threat to AAP: Congress   \n",
       "4  Former BJP MLA Kanu Kalsariya joins Aam Aadmi ...   \n",
       "\n",
       "                                                text  \\\n",
       "0  V. Balakrishnan, who stepped down as board mem...   \n",
       "1  Coming to the defence of its six-time Chief Mi...   \n",
       "2  Taking the cue from the Delhi government’s dec...   \n",
       "3  The confidence vote moved by Aam Aadmi governm...   \n",
       "4  Former BJP MLA Kanu Kalsariya, who spearheaded...   \n",
       "\n",
       "                        date Source   url_state_matches  \\\n",
       "0  2014-01-01 00:00:00+00:00  hindu                  {}   \n",
       "1  2014-01-01 00:00:00+00:00  hindu                  {}   \n",
       "2  2014-01-01 00:00:00+00:00  hindu                  {}   \n",
       "3  2014-01-01 00:00:00+00:00  hindu  {'Delhi': 'Delhi'}   \n",
       "4  2014-01-01 00:00:00+00:00  hindu                  {}   \n",
       "\n",
       "                            state_counts  \\\n",
       "0                                     {}   \n",
       "1    {'delhi': 1, 'himachal pradesh': 2}   \n",
       "2         {'maharashtra': 2, 'delhi': 6}   \n",
       "3  {'bihar': 1, 'delhi': 2, 'punjab': 1}   \n",
       "4             {'delhi': 2, 'gujarat': 1}   \n",
       "\n",
       "                                         city_counts  \\\n",
       "0                                                 {}   \n",
       "1  {'himachal pradesh': {'hamirpur': 1, 'mandi': ...   \n",
       "2                     {'maharashtra': {'mumbai': 4}}   \n",
       "3                                                 {}   \n",
       "4                                                 {}   \n",
       "\n",
       "                             aggregated_state_counts  ...  \\\n",
       "0                                                 {}  ...   \n",
       "1  {'delhi': 1, 'himachal pradesh': 5, 'uttar pra...  ...   \n",
       "2                     {'maharashtra': 6, 'delhi': 6}  ...   \n",
       "3              {'bihar': 1, 'delhi': 2, 'punjab': 1}  ...   \n",
       "4                         {'delhi': 2, 'gujarat': 1}  ...   \n",
       "\n",
       "  gpt_incumbent_found_attacked gpt_challenger_found_attacked  \\\n",
       "0                            0                             0   \n",
       "1                            0                             0   \n",
       "2                            0                             0   \n",
       "3                            0                             1   \n",
       "4                            0                             0   \n",
       "\n",
       "   gpt_incumbent_found_attacker gpt_challenger_found_attacker  \\\n",
       "0                             0                             0   \n",
       "1                             1                             0   \n",
       "2                             1                             0   \n",
       "3                             1                             0   \n",
       "4                             0                             0   \n",
       "\n",
       "  gpt_incumbent_found_attacker_loksabha  \\\n",
       "0                                     0   \n",
       "1                                     0   \n",
       "2                                     1   \n",
       "3                                     1   \n",
       "4                                     0   \n",
       "\n",
       "  gpt_challenger_found_attacker_loksabha  \\\n",
       "0                                      0   \n",
       "1                                      1   \n",
       "2                                      0   \n",
       "3                                      0   \n",
       "4                                      0   \n",
       "\n",
       "  gpt_incumbent_found_attacked_loksabha  \\\n",
       "0                                     0   \n",
       "1                                     0   \n",
       "2                                     0   \n",
       "3                                     0   \n",
       "4                                     0   \n",
       "\n",
       "  gpt_challenger_found_attacked_loksabha   found_parties    predictions  \n",
       "0                                      0         ['AAP']  miscellaneous  \n",
       "1                                      0         ['INC']         attack  \n",
       "2                                      0         ['INC']         attack  \n",
       "3                                      1  ['INC', 'AAP']         attack  \n",
       "4                                      0  ['BJP', 'AAP']  miscellaneous  \n",
       "\n",
       "[5 rows x 52 columns]"
      ]
     },
     "execution_count": 4,
     "metadata": {},
     "output_type": "execute_result"
    }
   ],
   "source": [
    "df.head()"
   ]
  }
 ],
 "metadata": {
  "kernelspec": {
   "display_name": "Python 3",
   "language": "python",
   "name": "python3"
  },
  "language_info": {
   "codemirror_mode": {
    "name": "ipython",
    "version": 3
   },
   "file_extension": ".py",
   "mimetype": "text/x-python",
   "name": "python",
   "nbconvert_exporter": "python",
   "pygments_lexer": "ipython3",
   "version": "3.13.0"
  }
 },
 "nbformat": 4,
 "nbformat_minor": 2
}
